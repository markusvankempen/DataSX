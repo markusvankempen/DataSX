{
    "nbformat_minor": 1, 
    "cells": [
        {
            "source": "import numpy as np\nfrom numpy import concatenate\nfrom matplotlib import pyplot\nfrom pandas import read_csv\nfrom pandas import DataFrame\nfrom pandas import concat\nimport sklearn\nfrom  sklearn.preprocessing import MinMaxScaler\nfrom sklearn.preprocessing import MinMaxScaler\nfrom sklearn.preprocessing import LabelEncoder\nfrom sklearn.metrics import mean_squared_error\nfrom keras.models import Sequential\nfrom keras.layers import Dense\nfrom keras.layers import LSTM\nfrom keras.callbacks import Callback\nfrom keras.models import Sequential\nfrom keras.layers import LSTM, Dense, Activation\nimport pickle\nimport matplotlib.pyplot as plt\nfrom mpl_toolkits.mplot3d import Axes3D\nimport ibmiotf.application\nfrom Queue import Queue\n%matplotlib inline", 
            "metadata": {}, 
            "execution_count": 1, 
            "cell_type": "code", 
            "outputs": [
                {
                    "name": "stderr", 
                    "text": "Using TensorFlow backend.\n", 
                    "output_type": "stream"
                }
            ]
        }, 
        {
            "source": "!pip install keras\n!pip install ibmiotf", 
            "metadata": {}, 
            "execution_count": null, 
            "cell_type": "code", 
            "outputs": []
        }, 
        {
            "source": "!rm watsoniotp.*\n!wget http://www.romeokienzler.com/watsoniotp.healthy.pickle\n!wget http://www.romeokienzler.com/watsoniotp.broken.pickle", 
            "metadata": {}, 
            "execution_count": null, 
            "cell_type": "code", 
            "outputs": []
        }, 
        {
            "source": "data_healthy = pickle.load(open('watsoniotp.healthy.pickle', 'rb'))\ndata_broken = pickle.load(open('watsoniotp.broken.pickle', 'rb'))", 
            "metadata": {}, 
            "execution_count": null, 
            "cell_type": "code", 
            "outputs": []
        }, 
        {
            "source": "data_healthy = data_healthy.reshape(3000,3)\ndata_broken = data_broken.reshape(3000,3)", 
            "metadata": {}, 
            "execution_count": null, 
            "cell_type": "code", 
            "outputs": []
        }, 
        {
            "source": "fig, ax = plt.subplots(num=None, figsize=(14, 6), dpi=80, facecolor='w', edgecolor='k')\nsize = len(data_healthy)\n#ax.set_ylim(0,energy.max())\nax.plot(range(0,size), data_healthy[:,0], '-', color='blue', animated = True, linewidth=1)\nax.plot(range(0,size), data_healthy[:,1], '-', color='red', animated = True, linewidth=1)\nax.plot(range(0,size), data_healthy[:,2], '-', color='green', animated = True, linewidth=1)", 
            "metadata": {}, 
            "execution_count": null, 
            "cell_type": "code", 
            "outputs": []
        }, 
        {
            "source": "fig, ax = plt.subplots(num=None, figsize=(14, 6), dpi=80, facecolor='w', edgecolor='k')\nsize = len(data_healthy)\n#ax.set_ylim(0,energy.max())\nax.plot(range(0,size), data_broken[:,0], '-', color='blue', animated = True, linewidth=1)\nax.plot(range(0,size), data_broken[:,1], '-', color='red', animated = True, linewidth=1)\nax.plot(range(0,size), data_broken[:,2], '-', color='green', animated = True, linewidth=1)", 
            "metadata": {}, 
            "execution_count": null, 
            "cell_type": "code", 
            "outputs": []
        }, 
        {
            "source": "data_healthy_fft = np.fft.fft(data_healthy)\ndata_broken_fft = np.fft.fft(data_broken)", 
            "metadata": {}, 
            "execution_count": null, 
            "cell_type": "code", 
            "outputs": []
        }, 
        {
            "source": "#fig, ax = plt.subplots(num=None, figsize=(14, 6), dpi=80, facecolor='w', edgecolor='k')\n#size = len(data_healthy_fft)\n#ax.plot(range(0,size), data_healthy_fft[:,0].real, '-', color='blue', animated = True, linewidth=1)\n#ax.plot(range(0,size), data_healthy_fft[:,1].imag, '-', color='red', animated = True, linewidth=1)\n#ax.plot(range(0,size), data_healthy_fft[:,2].real, '-', color='green', animated = True, linewidth=1)\n", 
            "metadata": {}, 
            "execution_count": null, 
            "cell_type": "code", 
            "outputs": []
        }, 
        {
            "source": "#fig, ax = plt.subplots(num=None, figsize=(14, 6), dpi=80, facecolor='w', edgecolor='k')\n#size = len(data_healthy_fft)\n#ax.plot(range(0,size), data_broken_fft[:,0].real, '-', color='blue', animated = True, linewidth=1)\n#ax.plot(range(0,size), data_broken_fft[:,1].imag, '-', color='red', animated = True, linewidth=1)\n#ax.plot(range(0,size), data_broken_fft[:,2].real, '-', color='green', animated = True, linewidth=1)\n", 
            "metadata": {}, 
            "execution_count": null, 
            "cell_type": "code", 
            "outputs": []
        }, 
        {
            "source": "def scaleData(data):\n    # normalize features\n    scaler = MinMaxScaler(feature_range=(0, 1))\n    return scaler.fit_transform(data)", 
            "metadata": {}, 
            "execution_count": null, 
            "cell_type": "code", 
            "outputs": []
        }, 
        {
            "source": "data_healthy_scaled = scaleData(data_healthy)\ndata_broken_scaled = scaleData(data_broken)", 
            "metadata": {}, 
            "execution_count": null, 
            "cell_type": "code", 
            "outputs": []
        }, 
        {
            "source": "timesteps = 10\ndim = 3\nsamples = 3000\ndata_healthy_scaled_reshaped = data_healthy_scaled\n#reshape to (300,10,3)\ndata_healthy_scaled_reshaped.shape = (samples/timesteps,timesteps,dim)", 
            "metadata": {}, 
            "execution_count": null, 
            "cell_type": "code", 
            "outputs": []
        }, 
        {
            "source": "losses = []\n\ndef handleLoss(loss):\n        global losses\n        losses+=[loss]\n        print loss", 
            "metadata": {}, 
            "execution_count": null, 
            "cell_type": "code", 
            "outputs": []
        }, 
        {
            "source": "class LossHistory(Callback):\n    def on_train_begin(self, logs={}):\n        self.losses = []\n\n    def on_batch_end(self, batch, logs={}):\n        self.losses.append(logs.get('loss'))\n        handleLoss(logs.get('loss'))", 
            "metadata": {}, 
            "execution_count": null, 
            "cell_type": "code", 
            "outputs": []
        }, 
        {
            "source": "# design network\n\nmodel = Sequential()\nmodel.add(LSTM(50,input_shape=(timesteps,dim),return_sequences=True))\nmodel.add(LSTM(50,input_shape=(timesteps,dim),return_sequences=True))\nmodel.add(LSTM(50,input_shape=(timesteps,dim),return_sequences=True))\nmodel.add(LSTM(50,input_shape=(timesteps,dim),return_sequences=True))\nmodel.add(LSTM(50,input_shape=(timesteps,dim),return_sequences=True))\nmodel.add(LSTM(50,input_shape=(timesteps,dim),return_sequences=True))\nmodel.add(LSTM(50,input_shape=(timesteps,dim),return_sequences=True))\nmodel.add(LSTM(50,input_shape=(timesteps,dim),return_sequences=True))\nmodel.add(LSTM(50,input_shape=(timesteps,dim),return_sequences=True))\nmodel.add(LSTM(50,input_shape=(timesteps,dim),return_sequences=True))\nmodel.add(LSTM(50,input_shape=(timesteps,dim),return_sequences=True))\nmodel.add(Dense(3))\nmodel.compile(loss='mae', optimizer='adam')\n\ndef train(data):\n    data.shape = (300, 10, 3)\n    model.fit(data, data, epochs=50, batch_size=72, validation_data=(data, data), verbose=0, shuffle=False,callbacks=[LossHistory()])\n    data.shape = (3000, 3)\n\ndef score(data):\n    data.shape = (300, 10, 3)\n    yhat =  model.predict(data)\n    yhat.shape = (3000, 3)\n    return yhat", 
            "metadata": {}, 
            "execution_count": null, 
            "cell_type": "code", 
            "outputs": []
        }, 
        {
            "source": "for i in range(20):\n    \n    print \"----------------\"\n    train(data_healthy_scaled)\n    yhat_healthy = score(data_healthy_scaled)\n    yhat_broken = score(data_broken_scaled)\n    data_healthy_scaled.shape = (3000, 3)\n    data_broken_scaled.shape = (3000, 3)\n\n\nprint \"----------------broken\"\ntrain(data_broken_scaled)\nyhat_healthy = score(data_healthy_scaled)\nyhat_broken = score(data_broken_scaled)\ndata_healthy_scaled.shape = (3000, 3)\ndata_broken_scaled.shape = (3000, 3)", 
            "metadata": {}, 
            "execution_count": null, 
            "cell_type": "code", 
            "outputs": []
        }, 
        {
            "source": "fig, ax = plt.subplots(num=None, figsize=(14, 6), dpi=80, facecolor='w', edgecolor='k')\nsize = len(data_healthy_fft)\n#ax.set_ylim(0,energy.max())\nax.plot(range(0,len(losses)), losses, '-', color='blue', animated = True, linewidth=1)", 
            "metadata": {
                "scrolled": true
            }, 
            "execution_count": null, 
            "cell_type": "code", 
            "outputs": []
        }, 
        {
            "source": "\n\noptions = {\"org\": \"oqyrc5\", \"id\": \"anything\", \"auth-method\": \"apikey\", \"auth-key\": \"a-oqyrc5-8rkggjluto\", \"auth-token\": \"QU90jd-hjzbZSpqz2i\"}\n\n\nclient = ibmiotf.application.Client(options)\nclient.connect()", 
            "metadata": {}, 
            "execution_count": null, 
            "cell_type": "code", 
            "outputs": []
        }, 
        {
            "source": "q = Queue(7000)", 
            "metadata": {}, 
            "execution_count": null, 
            "cell_type": "code", 
            "outputs": []
        }, 
        {
            "source": "def myEventCallback(event):\n    sample = event.data\n    point = [sample[\"x\"], sample[\"y\"],sample[\"z\"]]\n    q.put(point)\n\nclient.deviceEventCallback = myEventCallback\nclient.subscribeToDeviceEvents(\"0.16.2\", \"lorenz\", \"osc\")", 
            "metadata": {}, 
            "execution_count": null, 
            "cell_type": "code", 
            "outputs": []
        }, 
        {
            "source": "def doNN(data):\n    data_scaled = scaleData(data)\n    train(data_scaled)\n    yhat = score(data_scaled)\n    data_scaled.shape = (3000, 3)", 
            "metadata": {}, 
            "execution_count": null, 
            "cell_type": "code", 
            "outputs": []
        }, 
        {
            "source": "def handleLoss(loss):\n        myData={'loss' : str(loss)}\n        client.publishEvent(\"0.16.2\", \"lorenz\", \"status\", \"json\", myData)\n        if loss > 0.1:\n            client.publishEvent(\"0.16.2\", \"lorenz\", \"alert\", \"json\", myData)", 
            "metadata": {}, 
            "execution_count": null, 
            "cell_type": "code", 
            "outputs": []
        }, 
        {
            "source": "import numpy as np\nwhile True:\n    while not q.empty():\n        point = q.get()\n        try:\n            data\n        except NameError:\n            data = np.array(point)\n        else:\n            data = np.append(data,point)\n        if data.size>=9000:\n            data = np.reshape(data,(3000,3))\n            print data\n            doNN(data)\n            del data\n", 
            "metadata": {}, 
            "execution_count": null, 
            "cell_type": "code", 
            "outputs": []
        }, 
        {
            "source": "", 
            "metadata": {}, 
            "execution_count": null, 
            "cell_type": "code", 
            "outputs": []
        }
    ], 
    "nbformat": 4, 
    "metadata": {
        "kernelspec": {
            "name": "python2-spark21", 
            "language": "python", 
            "display_name": "Python 2 with Spark 2.1"
        }, 
        "language_info": {
            "codemirror_mode": {
                "name": "ipython", 
                "version": 2
            }, 
            "name": "python", 
            "pygments_lexer": "ipython2", 
            "mimetype": "text/x-python", 
            "nbconvert_exporter": "python", 
            "file_extension": ".py", 
            "version": "2.7.11"
        }
    }
}